{
 "cells": [
  {
   "cell_type": "code",
   "execution_count": 5,
   "metadata": {},
   "outputs": [
    {
     "name": "stdout",
     "output_type": "stream",
     "text": [
      "0.6583097452486858\n"
     ]
    }
   ],
   "source": [
    "import pandas as pd\n",
    "from sklearn.model_selection import train_test_split\n",
    "from sklearn.linear_model import LogisticRegression\n",
    "from sklearn.feature_extraction.text import CountVectorizer\n",
    "from wordcloud import WordCloud\n",
    "\n",
    "#Criando variável com os dados de teste.\n",
    "data = pd.read_csv(\"C:/Users/lucas/Documents/Pessoal/cotuca/tcc/imdb-reviews-pt-br.csv\")\n",
    "\n",
    "#Criando as variáveis com as informações segregadas.\n",
    "treino, teste, class_treino, class_teste = train_test_split(data.text_pt, data.sentiment, random_state = 42)\n",
    "\n",
    "#trocando as informações da coluna, para os valores legiveis pela IA\n",
    "classificacao = data[\"sentiment\"].replace([\"neg\", \"pos\"], [0, 1])\n",
    "\n",
    "data[\"classificacao\"] = classificacao\n",
    "\n",
    "def class_texto(texto, coluna_texto, coluna_classificacao):\n",
    "    vetorizar = CountVectorizer(lowercase=False, max_features=50)\n",
    "    bag_of_words = vetorizar.fit_transform(texto[coluna_texto])\n",
    "    treino, teste, class_treino, class_teste = train_test_split(bag_of_words,\n",
    "                                                                texto[coluna_classificacao],\n",
    "                                                                random_state = 42)\n",
    "\n",
    "    #Cod. para absorver toda a base de dados use: LogisticRegression(max_iter=1000)\n",
    "    reg_log = LogisticRegression()\n",
    "    reg_log.fit(treino, class_treino)\n",
    "    return reg_log.score(teste, class_teste)\n",
    "\n",
    "print(class_texto(data, \"text_pt\", \"classificacao\"))"
   ]
  },
  {
   "cell_type": "code",
   "execution_count": null,
   "metadata": {},
   "outputs": [],
   "source": []
  }
 ],
 "metadata": {
  "kernelspec": {
   "display_name": "Python 3",
   "language": "python",
   "name": "python3"
  },
  "language_info": {
   "codemirror_mode": {
    "name": "ipython",
    "version": 3
   },
   "file_extension": ".py",
   "mimetype": "text/x-python",
   "name": "python",
   "nbconvert_exporter": "python",
   "pygments_lexer": "ipython3",
   "version": "3.8.5"
  }
 },
 "nbformat": 4,
 "nbformat_minor": 4
}
