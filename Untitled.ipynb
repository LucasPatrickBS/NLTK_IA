{
 "cells": [
  {
   "cell_type": "code",
   "execution_count": 75,
   "metadata": {},
   "outputs": [],
   "source": [
    "%matplotlib inline\n",
    "\n",
    "import pandas            as pd\n",
    "import seaborn           as sns\n",
    "import matplotlib.pyplot as plt\n",
    "import nltk\n",
    "\n",
    "from sklearn.model_selection         import train_test_split\n",
    "from sklearn.linear_model            import LogisticRegression\n",
    "from sklearn.feature_extraction.text import CountVectorizer\n",
    "from wordcloud                       import WordCloud\n",
    "from nltk                            import tokenize"
   ]
  },
  {
   "cell_type": "code",
   "execution_count": 76,
   "metadata": {},
   "outputs": [],
   "source": [
    "#Criando variável com os dados de teste.\n",
    "data = pd.read_csv(\"C:/Users/lucas/Documents/GitHub/NLTK_IA/imdb-reviews-pt-br.csv\")\n",
    "\n",
    "#Criando as variáveis com as informações segregadas.\n",
    "treino, teste, class_treino, class_teste = train_test_split(data.text_pt, data.sentiment, random_state = 42)\n",
    "\n",
    "#trocando as informações da coluna, para os valores legiveis pela IA\n",
    "classificacao = data[\"sentiment\"].replace([\"neg\", \"pos\"], [0, 1])\n",
    "\n",
    "data[\"classificacao\"] = classificacao\n",
    "palavras = ''.join([texto for texto in data.text_pt])\n",
    "\n",
    "def class_texto(texto, coluna_texto, coluna_classificacao):\n",
    "    vetorizar = CountVectorizer(lowercase=False, max_features=50)\n",
    "    bag_of_words = vetorizar.fit_transform(texto[coluna_texto])\n",
    "    treino, teste, class_treino, class_teste = train_test_split(bag_of_words,\n",
    "                                                                texto[coluna_classificacao],\n",
    "                                                                random_state = 42)\n",
    "\n",
    "    #Absorção de toda a base de dados use: LogisticRegression(max_iter=1000)\n",
    "    reg_log = LogisticRegression()\n",
    "    reg_log.fit(treino, class_treino)\n",
    "    return reg_log.score(teste, class_teste)\n",
    "\n",
    "def palavras_neg(texto_neg, coluna_texto):\n",
    "    texto_neg = data.query(\"sentiment == 'neg'\")\n",
    "    palavras = ''.join([texto for texto in texto_neg[coluna_texto]])\n",
    "\n",
    "    nuvem_palavras = WordCloud(width = 1100, height = 550, \n",
    "                                max_font_size = 110,\n",
    "                                collocations = False).generate(palavras)\n",
    "    \n",
    "    #Configuração da umagem a ser exibida\n",
    "    plt.figure(figsize=(15,10))\n",
    "    plt.imshow(nuvem_palavras, interpolation = 'bilinear')\n",
    "    plt.axis('off')\n",
    "    plt.show()\n",
    "\n",
    "def palavras_pos(texto_pos, coluna_texto):\n",
    "    texto_pos = data.query(\"sentiment == 'pos'\")\n",
    "    palavras = ''.join([texto for texto in texto_pos[coluna_texto]])\n",
    "\n",
    "    nuvem_palavras = WordCloud(width = 1100, height = 550, \n",
    "                                max_font_size = 110,\n",
    "                                collocations = False).generate(palavras)\n",
    "    \n",
    "    #Configuração da umagem a ser exibida\n",
    "    plt.figure(figsize=(15,10))\n",
    "    plt.imshow(nuvem_palavras, interpolation = 'bilinear')\n",
    "    plt.axis('off')\n",
    "    plt.show()\n",
    "\n",
    "def palavras_geral(texto_pos, coluna_texto):\n",
    "    palavras = ''.join([texto for texto in data.text_pt])\n",
    "\n",
    "    #Criação da \"Nuvem de palavras\", que representa de forma concentrada as palavras mais repetidas.\n",
    "    nuvem_palavras = WordCloud(width = 1100, height = 550, \n",
    "                                max_font_size = 110,\n",
    "                                collocations = False).generate(palavras)\n",
    "    \n",
    "    #Configuração da umagem a ser exibida\n",
    "    plt.figure(figsize=(15,10))\n",
    "    plt.imshow(nuvem_palavras, interpolation = 'bilinear')\n",
    "    plt.axis('off')\n",
    "    plt.show()\n",
    "    \n",
    "#palavras_neg(data, \"text_pt\")\n",
    "#palavras_pos(data, \"text_pt\")\n",
    "#palavras(data, \"text_pt\")\n",
    "\n",
    "#int('Acurácia de: ',class_texto(data, \"text_pt\", \"classificacao\"),', a partir de: 63398966 palavras')"
   ]
  },
  {
   "cell_type": "code",
   "execution_count": 88,
   "metadata": {},
   "outputs": [],
   "source": [
    "#Possibilita seprar as palavras, a partir de espaçoes em branco\n",
    "token_espaco = tokenize.WhitespaceTokenizer()\n",
    "#Aplica o token criando anteriormente para todas as palavras\n",
    "token_frase = token_espaco.tokenize(palavras)\n",
    "#Cria uma frequencia para todas as lapavras, individualemnte\n",
    "frequencia = nltk.FreqDist(token_frase)\n",
    "#Inicia uma visualização para cada uma dessas palavras, de acordo com sua uantidade de aparições\n",
    "df_frequencia = pd.DataFrame({\"Palavra\": list(frequencia.keys()),\"Frequencia\": list(frequencia.values())})\n",
    "#Limita para quantidade X de linhas\n",
    "maisVistas = df_frequencia.nlargest(columns = \"Frequencia\", n = 50)"
   ]
  },
  {
   "cell_type": "code",
   "execution_count": 89,
   "metadata": {},
   "outputs": [
    {
     "data": {
      "image/png": "[encoded data removed]",
      "text/plain": [
       "<Figure size 1080x720 with 1 Axes>"
      ]
     },
     "metadata": {
      "needs_background": "light"
     },
     "output_type": "display_data"
    }
   ],
   "source": [
    "#Configuração da umagem a ser exibida\n",
    "plt.figure(figsize=(15,10))\n",
    "\n",
    "ax = sns.barplot(data = maisVistas, x = \"Palavra\", y = \"Frequencia\", color = 'gray')\n",
    "ax.set(ylabel = 'Contagem')\n",
    "plt.show()"
   ]
  },
  {
   "cell_type": "code",
   "execution_count": null,
   "metadata": {},
   "outputs": [],
   "source": []
  }
 ],
 "metadata": {
  "kernelspec": {
   "display_name": "Python 3",
   "language": "python",
   "name": "python3"
  },
  "language_info": {
   "codemirror_mode": {
    "name": "ipython",
    "version": 3
   },
   "file_extension": ".py",
   "mimetype": "text/x-python",
   "name": "python",
   "nbconvert_exporter": "python",
   "pygments_lexer": "ipython3",
   "version": "3.8.5"
  }
 },
 "nbformat": 4,
 "nbformat_minor": 4
}
